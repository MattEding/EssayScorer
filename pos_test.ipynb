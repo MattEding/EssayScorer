{
 "cells": [
  {
   "cell_type": "code",
   "execution_count": 15,
   "metadata": {},
   "outputs": [],
   "source": [
    "import collections\n",
    "import pathlib\n",
    "\n",
    "import numpy as np\n",
    "import pandas as pd\n",
    "\n",
    "import nlp_util"
   ]
  },
  {
   "cell_type": "code",
   "execution_count": 2,
   "metadata": {},
   "outputs": [],
   "source": [
    "npys = pathlib.Path.cwd() / 'data' / 'npys'\n",
    "corrs = np.load(npys / 'train_corrections.npy')"
   ]
  },
  {
   "cell_type": "code",
   "execution_count": 3,
   "metadata": {},
   "outputs": [
    {
     "data": {
      "text/plain": [
       "\"Dear local newspaper, I think effects computers have on people are great learning skill/affects because they give us time to chat with friends/new people, helps us learn about the globe(astronomy) and keeps us out of trouble! Thing about! Wont you think so? Now would you feel if your teenager is always on the phone with friends! To you ever time to chat with your friends or business partner about things. Well now - there's a new way to chat the computer, theirs plenty of sites on the internet to do so: @ORGANIZATION1, @ORGANIZATION2, @CAPS1, facebook, space act. Must think now while your setting up meeting with your boss on the computer, your teenager is having fun on the phone not rushing to get off cause you want to use it. Now did you learn about other country/states outside of yours? Well I have by computer/internet, it's a new way to learn about what going on in our time! You might think your child spends a lot of time on the computer, but ask them so question about the economy, sea floor spreading or even about the @DATE1's you'll be surprise at how much he/she knows. Believe it or not the computer is much interesting then in class all day reading out of books. Of your child is home on your computer or at a local library, it's better than being out with friends being fresh, or being perpressured to doing something they know isn right. You might not know where your child is, @CAPS2 forbidden in a hospital bed because of a drive-by. Father than your child on the computer learning, chatting or just playing games, safe and sound in your home or community place. Now I hope you have reached a point to understand and agree with me, because computers can have great effects on you or child because it gives us time to chat with friends/new people, helps us learn about the globe and believe or not keeps us out of trouble. Thank you for listening.\""
      ]
     },
     "execution_count": 3,
     "metadata": {},
     "output_type": "execute_result"
    }
   ],
   "source": [
    "corrs[0]"
   ]
  },
  {
   "cell_type": "code",
   "execution_count": 6,
   "metadata": {},
   "outputs": [],
   "source": [
    "vpos = {'MD', 'WDT', 'VB', 'NN', 'VBZ', 'SYM', 'UH', 'RP', 'JJS', 'VBN', 'POS', 'VBG', 'RBR', 'RB', 'VBP', 'WRB', 'RBS', 'WP$', 'NNP', 'TO', 'NNPS', 'CD', 'JJ', 'CC', 'PRP', 'WP', 'EX', 'JJR', 'PDT', 'FW', 'IN', 'NNS', 'PRP$', 'VBD', 'DT', 'LS'}\n",
    "tpos = {'DT', 'POS', 'TO', 'VBZ', 'VBP', 'RBR', 'JJR', 'PRP', 'JJS', 'WRB', 'LS', 'VBG', 'RBS', 'FW', 'PRP$', 'VB', 'CC', 'IN', 'MD', 'UH', 'EX', 'VBN', 'JJ', 'NNS', 'PDT', 'RB', 'NN', 'RP', 'VBD', 'WP$', 'WDT', 'WP', 'CD', 'NNP', 'NNPS'}\n",
    "bpos = sorted(vpos | tpos)"
   ]
  },
  {
   "cell_type": "code",
   "execution_count": 9,
   "metadata": {},
   "outputs": [],
   "source": [
    "cntr = collections.Counter()"
   ]
  },
  {
   "cell_type": "code",
   "execution_count": 13,
   "metadata": {},
   "outputs": [],
   "source": [
    "for pos in nlp_util.POS:\n",
    "    cntr[pos] = 0"
   ]
  },
  {
   "cell_type": "code",
   "execution_count": 23,
   "metadata": {},
   "outputs": [],
   "source": [
    "c1 = cntr.copy()\n",
    "c1['CC'] += 1\n",
    "\n",
    "c2 = cntr.copy()\n",
    "c2['DT'] += 4"
   ]
  },
  {
   "cell_type": "code",
   "execution_count": 33,
   "metadata": {},
   "outputs": [],
   "source": [
    "s =\"Dear @ORGANIZATION1,     @CAPS1 I was growing up in my small little neighborhood, life could not have been more simple.  For children, life is eating, sleeping, playing, and laughing.  Their innocent minds do not ponder the meanings of life or of love, but curiosity does grab every child now and then.  With a stubborn persistence, a child would probably go to the ends of the earth to understand what confidential information they overheard their parents talking about.  But @CAPS1 does harmless curiosity mean the destruction of a child's innocence?  By viewing adult-tormented material, such as books at a library, children can gain premature knowledge that can be harmful to their development.  However, libraries should not fear stocking their shelves with books that are appropriate for adults because an author spend countless hours writing that book,  that book represents a portion of history for the human race, and not everyone @MONTH1 find the contents inappropriate.     Authors have the freedomto write about whatever interests them, and taking away their right to display theirthoughts and opinions is unjust.  A censured author must feel like a basketball player that did not make the cut despite hours of practice.  Thus, an author that has practiced and perfectly his writing skill does so in hopes of publishing his work.  Not agreeing with someone's interest in a subject is no reason to exclude his valuable thoughts from society.  Looks that are appropriate for adults deserve to be displayed for adults as the author intended.     Very piece of literature that has ever been written documents a portion of history of the human race.  Even sectional novels serve as monuments to the depths of man's imagination.  Therefore, no book should be censured, no matter how inappropriate the material is.  Must as remembering the @CAPS2 has influenced mankind not to repeat past mistakes, keeping books of the most horrible content @MONTH1 save authors from repeating such dishonorable content.  In other words, if censorship removed the 'mistakes' of literature from library shelves, who is to say that an oblivious author will not repeat that 'mistake'.  By remembering these mistakes, mankind will be able to move forward in literature.  @CAPS1 books are not 'mistakes', they serve as reminders of the high-points in literature.  All literature, appropriate and inappropriate, is a piece of mankind's history that should not be kept asecret.     Finally, who is to judge what is a 'mistake' in literature?  A book on @CAPS3 @MONTH1 be inappropriate in the eyes of a @CAPS4, but that book @MONTH1 be sacred to a @CAPS5.  Beauty is in the eye of the holder.  Furthermore, for any given bookthere is at least one person who disagrees with its message.  A library is built forthe education of the public, not for the interests of one person.  Of one is offended by a literary work, perhaps he should just move on and find a book more suited to his interests.  The decision on the appropriateness of a novel is up to the reader, not the government or library or activist group.     Censorship of material in libraries would strip authors of their chance to let their works be seen by others, keep records of the human race secret, and take away the privilege of the reader to decide what is appropriate.  Authors endure long hours of practice and writing in order to havetheir thoughts read, and such a motive should not be taken away from them.  Very book represents some aspect of human life and records it for future generations to avoidprevious mistakes.  And these 'mistakes' are decided by the reader, a decision that censorship takes upon itself.  Instead of choosing what books are seen by the public,perhaps libraries should just create an adult-only section to house the 'controversial' books; as a result, mankind would stay educated and free, and children would remain innocent.                                   -@ORGANIZATION2\""
   ]
  },
  {
   "cell_type": "code",
   "execution_count": 35,
   "metadata": {},
   "outputs": [],
   "source": [
    "c3 = nlp_util.parts_of_speech(s)"
   ]
  },
  {
   "cell_type": "code",
   "execution_count": 37,
   "metadata": {},
   "outputs": [
    {
     "data": {
      "text/html": [
       "<div>\n",
       "<style scoped>\n",
       "    .dataframe tbody tr th:only-of-type {\n",
       "        vertical-align: middle;\n",
       "    }\n",
       "\n",
       "    .dataframe tbody tr th {\n",
       "        vertical-align: top;\n",
       "    }\n",
       "\n",
       "    .dataframe thead th {\n",
       "        text-align: right;\n",
       "    }\n",
       "</style>\n",
       "<table border=\"1\" class=\"dataframe\">\n",
       "  <thead>\n",
       "    <tr style=\"text-align: right;\">\n",
       "      <th></th>\n",
       "      <th>CC</th>\n",
       "      <th>CD</th>\n",
       "      <th>DT</th>\n",
       "      <th>EX</th>\n",
       "      <th>FW</th>\n",
       "      <th>IN</th>\n",
       "      <th>JJ</th>\n",
       "      <th>JJR</th>\n",
       "      <th>JJS</th>\n",
       "      <th>LS</th>\n",
       "      <th>...</th>\n",
       "      <th>VB</th>\n",
       "      <th>VBD</th>\n",
       "      <th>VBG</th>\n",
       "      <th>VBN</th>\n",
       "      <th>VBP</th>\n",
       "      <th>VBZ</th>\n",
       "      <th>WDT</th>\n",
       "      <th>WP</th>\n",
       "      <th>WP$</th>\n",
       "      <th>WRB</th>\n",
       "    </tr>\n",
       "  </thead>\n",
       "  <tbody>\n",
       "    <tr>\n",
       "      <th>0</th>\n",
       "      <td>1</td>\n",
       "      <td>0</td>\n",
       "      <td>0</td>\n",
       "      <td>0</td>\n",
       "      <td>0</td>\n",
       "      <td>0</td>\n",
       "      <td>0</td>\n",
       "      <td>0</td>\n",
       "      <td>0</td>\n",
       "      <td>0</td>\n",
       "      <td>...</td>\n",
       "      <td>0</td>\n",
       "      <td>0</td>\n",
       "      <td>0</td>\n",
       "      <td>0</td>\n",
       "      <td>0</td>\n",
       "      <td>0</td>\n",
       "      <td>0</td>\n",
       "      <td>0</td>\n",
       "      <td>0</td>\n",
       "      <td>0</td>\n",
       "    </tr>\n",
       "    <tr>\n",
       "      <th>1</th>\n",
       "      <td>2</td>\n",
       "      <td>1</td>\n",
       "      <td>5</td>\n",
       "      <td>1</td>\n",
       "      <td>1</td>\n",
       "      <td>1</td>\n",
       "      <td>1</td>\n",
       "      <td>1</td>\n",
       "      <td>1</td>\n",
       "      <td>1</td>\n",
       "      <td>...</td>\n",
       "      <td>1</td>\n",
       "      <td>1</td>\n",
       "      <td>1</td>\n",
       "      <td>1</td>\n",
       "      <td>1</td>\n",
       "      <td>1</td>\n",
       "      <td>1</td>\n",
       "      <td>1</td>\n",
       "      <td>1</td>\n",
       "      <td>1</td>\n",
       "    </tr>\n",
       "    <tr>\n",
       "      <th>2</th>\n",
       "      <td>21</td>\n",
       "      <td>3</td>\n",
       "      <td>65</td>\n",
       "      <td>1</td>\n",
       "      <td>0</td>\n",
       "      <td>85</td>\n",
       "      <td>46</td>\n",
       "      <td>1</td>\n",
       "      <td>1</td>\n",
       "      <td>0</td>\n",
       "      <td>...</td>\n",
       "      <td>38</td>\n",
       "      <td>3</td>\n",
       "      <td>17</td>\n",
       "      <td>18</td>\n",
       "      <td>17</td>\n",
       "      <td>24</td>\n",
       "      <td>10</td>\n",
       "      <td>7</td>\n",
       "      <td>0</td>\n",
       "      <td>1</td>\n",
       "    </tr>\n",
       "  </tbody>\n",
       "</table>\n",
       "<p>3 rows × 36 columns</p>\n",
       "</div>"
      ],
      "text/plain": [
       "   CC  CD  DT  EX  FW  IN  JJ  JJR  JJS  LS  ...  VB  VBD  VBG  VBN  VBP  VBZ  \\\n",
       "0   1   0   0   0   0   0   0    0    0   0  ...   0    0    0    0    0    0   \n",
       "1   2   1   5   1   1   1   1    1    1   1  ...   1    1    1    1    1    1   \n",
       "2  21   3  65   1   0  85  46    1    1   0  ...  38    3   17   18   17   24   \n",
       "\n",
       "   WDT  WP  WP$  WRB  \n",
       "0    0   0    0    0  \n",
       "1    1   1    1    1  \n",
       "2   10   7    0    1  \n",
       "\n",
       "[3 rows x 36 columns]"
      ]
     },
     "execution_count": 37,
     "metadata": {},
     "output_type": "execute_result"
    }
   ],
   "source": [
    "df = pd.DataFrame([c1, c2, c3])\n",
    "df"
   ]
  },
  {
   "cell_type": "code",
   "execution_count": 39,
   "metadata": {},
   "outputs": [],
   "source": [
    "# df.to_pickle"
   ]
  },
  {
   "cell_type": "code",
   "execution_count": null,
   "metadata": {},
   "outputs": [],
   "source": []
  },
  {
   "cell_type": "code",
   "execution_count": 32,
   "metadata": {},
   "outputs": [],
   "source": [
    "from importlib import reload\n",
    "reload(nlp_util);"
   ]
  }
 ],
 "metadata": {
  "kernelspec": {
   "display_name": "Python 3",
   "language": "python",
   "name": "python3"
  },
  "language_info": {
   "codemirror_mode": {
    "name": "ipython",
    "version": 3
   },
   "file_extension": ".py",
   "mimetype": "text/x-python",
   "name": "python",
   "nbconvert_exporter": "python",
   "pygments_lexer": "ipython3",
   "version": "3.6.8"
  }
 },
 "nbformat": 4,
 "nbformat_minor": 2
}
