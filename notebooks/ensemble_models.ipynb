{
 "cells": [
  {
   "cell_type": "code",
   "execution_count": 27,
   "metadata": {},
   "outputs": [],
   "source": [
    "import functools\n",
    "import pathlib\n",
    "import pickle\n",
    "\n",
    "import numpy as np\n",
    "import pandas as pd\n",
    "from sklearn.linear_model import LinearRegression\n",
    "from sklearn.metrics import mean_absolute_error, mean_squared_error, r2_score\n",
    "\n",
    "import model_util\n",
    "import utils"
   ]
  },
  {
   "cell_type": "code",
   "execution_count": 28,
   "metadata": {},
   "outputs": [],
   "source": [
    "metrics = [mean_absolute_error, mean_squared_error, r2_score]\n",
    "grid_cv = functools.partial(model_util.grid_search_cv, X=X_train, y=y_train)\n",
    "score_est = functools.partial(model_util.score_estimator, \n",
    "                              metrics=metrics, \n",
    "                              X=X_train,\n",
    "                              y=y_train)\n",
    "plot_resid = functools.partial(model_util.plot_residuals, X=X_train, y=y_train)"
   ]
  },
  {
   "cell_type": "code",
   "execution_count": 22,
   "metadata": {},
   "outputs": [],
   "source": [
    "def score(fit_estimator, X, y):\n",
    "    pred = fit_estimator.predict(X)\n",
    "    return {m.__name__: m(y, pred) for m in metrics}\n",
    "\n",
    "\n",
    "def save_model(model, name):\n",
    "    file = models / f'{name}.pkl'\n",
    "    with open(file, 'wb') as fp:\n",
    "        pickle.dump(model, fp)"
   ]
  },
  {
   "cell_type": "code",
   "execution_count": 15,
   "metadata": {},
   "outputs": [],
   "source": [
    "models = pathlib.Path.cwd() / 'data' / 'models'\n",
    "# list(models.iterdir())"
   ]
  },
  {
   "cell_type": "code",
   "execution_count": 86,
   "metadata": {},
   "outputs": [],
   "source": [
    "with open(models / 'rand_forest.pkl', 'rb') as fp:\n",
    "    rand_forest = pickle.load(fp)\n",
    "    \n",
    "with open(models / 'extra_trees.pkl', 'rb') as fp:\n",
    "    extra_trees = pickle.load(fp)\n",
    "    \n",
    "with open(models / 'gradient_boost.pkl', 'rb') as fp:\n",
    "    gradient_boost = pickle.load(fp)\n",
    "    \n",
    "with open(models / 'svr.pkl', 'rb') as fp:\n",
    "    svr = pickle.load(fp)"
   ]
  },
  {
   "cell_type": "code",
   "execution_count": 87,
   "metadata": {},
   "outputs": [],
   "source": [
    "train_df = utils.merge_features('train')\n",
    "valid_df = utils.merge_features('valid')\n",
    "\n",
    "X_train = train_df.drop(columns=['domain1_percent', 'domain2_percent'])\n",
    "y_train = train_df['domain1_percent']\n",
    "\n",
    "X_valid = valid_df.drop(columns=['domain1_percent', 'domain2_percent'])\n",
    "y_valid = valid_df['domain1_percent']"
   ]
  },
  {
   "cell_type": "code",
   "execution_count": 114,
   "metadata": {},
   "outputs": [],
   "source": [
    "def pred_estimators(X, estimators):\n",
    "    dct = {type(est).__name__: est.predict(X) for est in estimators}\n",
    "    X_pred = pd.DataFrame(dct)\n",
    "    return X_pred\n",
    "\n",
    "estimators = [rand_forest, gradient_boost]\n",
    "X_pred_train = pred_estimators(X_train, estimators)\n",
    "X_pred_valid = pred_estimators(X_valid, estimators)\n",
    "\n",
    "stacker= LinearRegression()\n",
    "stacker.fit(X_pred_train, y_train);"
   ]
  },
  {
   "cell_type": "markdown",
   "metadata": {},
   "source": [
    "### Train Set"
   ]
  },
  {
   "cell_type": "code",
   "execution_count": 115,
   "metadata": {},
   "outputs": [
    {
     "data": {
      "text/plain": [
       "{'mean_absolute_error': 4.789088501153577,\n",
       " 'mean_squared_error': 43.86568785809041,\n",
       " 'r2_score': 0.9200481852425139}"
      ]
     },
     "execution_count": 115,
     "metadata": {},
     "output_type": "execute_result"
    }
   ],
   "source": [
    "score(stacker, X_pred_train, y_train)"
   ]
  },
  {
   "cell_type": "code",
   "execution_count": 116,
   "metadata": {},
   "outputs": [
    {
     "data": {
      "text/plain": [
       "{'mean_absolute_error': 5.360344739005344,\n",
       " 'mean_squared_error': 55.95773607685984,\n",
       " 'r2_score': 0.8980086083788551}"
      ]
     },
     "execution_count": 116,
     "metadata": {},
     "output_type": "execute_result"
    }
   ],
   "source": [
    "score(rand_forest, X_train, y_train)"
   ]
  },
  {
   "cell_type": "code",
   "execution_count": 117,
   "metadata": {},
   "outputs": [
    {
     "data": {
      "text/plain": [
       "{'mean_absolute_error': 0.007706535141803097,\n",
       " 'mean_squared_error': 0.21407042060556242,\n",
       " 'r2_score': 0.99960982445622}"
      ]
     },
     "execution_count": 117,
     "metadata": {},
     "output_type": "execute_result"
    }
   ],
   "source": [
    "score(extra_trees, X_train, y_train)"
   ]
  },
  {
   "cell_type": "code",
   "execution_count": 118,
   "metadata": {},
   "outputs": [
    {
     "data": {
      "text/plain": [
       "{'mean_absolute_error': 12.042495190869928,\n",
       " 'mean_squared_error': 248.57934014684102,\n",
       " 'r2_score': 0.5469267592416693}"
      ]
     },
     "execution_count": 118,
     "metadata": {},
     "output_type": "execute_result"
    }
   ],
   "source": [
    "score(gradient_boost, X_train, y_train)"
   ]
  },
  {
   "cell_type": "code",
   "execution_count": 119,
   "metadata": {},
   "outputs": [
    {
     "data": {
      "text/plain": [
       "{'mean_absolute_error': 14.735326940552477,\n",
       " 'mean_squared_error': 384.5142465932981,\n",
       " 'r2_score': 0.2991649438007917}"
      ]
     },
     "execution_count": 119,
     "metadata": {},
     "output_type": "execute_result"
    }
   ],
   "source": [
    "score(svr, X_train, y_train)"
   ]
  },
  {
   "cell_type": "markdown",
   "metadata": {},
   "source": [
    "### Valid Sets"
   ]
  },
  {
   "cell_type": "code",
   "execution_count": 120,
   "metadata": {},
   "outputs": [
    {
     "data": {
      "text/plain": [
       "{'mean_absolute_error': 12.830181860973484,\n",
       " 'mean_squared_error': 279.29355680022945,\n",
       " 'r2_score': 0.39995372300994725}"
      ]
     },
     "execution_count": 120,
     "metadata": {},
     "output_type": "execute_result"
    }
   ],
   "source": [
    "score(stacker, X_pred_valid, y_valid)"
   ]
  },
  {
   "cell_type": "code",
   "execution_count": 121,
   "metadata": {},
   "outputs": [
    {
     "data": {
      "text/plain": [
       "{'mean_absolute_error': 12.184302723776408,\n",
       " 'mean_squared_error': 252.68090971088048,\n",
       " 'r2_score': 0.45712947740171794}"
      ]
     },
     "execution_count": 121,
     "metadata": {},
     "output_type": "execute_result"
    }
   ],
   "source": [
    "score(rand_forest, X_valid, y_valid)"
   ]
  },
  {
   "cell_type": "code",
   "execution_count": 125,
   "metadata": {},
   "outputs": [
    {
     "data": {
      "text/plain": [
       "15.895940038603584"
      ]
     },
     "execution_count": 125,
     "metadata": {},
     "output_type": "execute_result"
    }
   ],
   "source": [
    "252.68090971088048 ** 0.5"
   ]
  },
  {
   "cell_type": "code",
   "execution_count": 122,
   "metadata": {},
   "outputs": [
    {
     "data": {
      "text/plain": [
       "{'mean_absolute_error': 12.059190769717087,\n",
       " 'mean_squared_error': 249.75721774405986,\n",
       " 'r2_score': 0.463410862836654}"
      ]
     },
     "execution_count": 122,
     "metadata": {},
     "output_type": "execute_result"
    }
   ],
   "source": [
    "score(extra_trees, X_valid, y_valid)"
   ]
  },
  {
   "cell_type": "code",
   "execution_count": 123,
   "metadata": {},
   "outputs": [
    {
     "data": {
      "text/plain": [
       "{'mean_absolute_error': 11.485501396856137,\n",
       " 'mean_squared_error': 227.16956316873797,\n",
       " 'r2_score': 0.5119391503816251}"
      ]
     },
     "execution_count": 123,
     "metadata": {},
     "output_type": "execute_result"
    }
   ],
   "source": [
    "score(gradient_boost, X_valid, y_valid)"
   ]
  },
  {
   "cell_type": "code",
   "execution_count": 112,
   "metadata": {},
   "outputs": [
    {
     "data": {
      "text/plain": [
       "{'mean_absolute_error': 13.478348235007521,\n",
       " 'mean_squared_error': 329.4043923498372,\n",
       " 'r2_score': 0.292293450954655}"
      ]
     },
     "execution_count": 112,
     "metadata": {},
     "output_type": "execute_result"
    }
   ],
   "source": [
    "score(svr, X_valid, y_valid)"
   ]
  },
  {
   "cell_type": "code",
   "execution_count": 124,
   "metadata": {},
   "outputs": [
    {
     "data": {
      "text/plain": [
       "(12976, 4218)"
      ]
     },
     "execution_count": 124,
     "metadata": {},
     "output_type": "execute_result"
    }
   ],
   "source": [
    "len(X_train), len(X_valid)"
   ]
  },
  {
   "cell_type": "code",
   "execution_count": null,
   "metadata": {},
   "outputs": [],
   "source": []
  }
 ],
 "metadata": {
  "kernelspec": {
   "display_name": "Python 3",
   "language": "python",
   "name": "python3"
  },
  "language_info": {
   "codemirror_mode": {
    "name": "ipython",
    "version": 3
   },
   "file_extension": ".py",
   "mimetype": "text/x-python",
   "name": "python",
   "nbconvert_exporter": "python",
   "pygments_lexer": "ipython3",
   "version": "3.6.8"
  }
 },
 "nbformat": 4,
 "nbformat_minor": 2
}
