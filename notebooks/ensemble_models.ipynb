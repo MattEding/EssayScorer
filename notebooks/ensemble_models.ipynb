{
 "cells": [
  {
   "cell_type": "code",
   "execution_count": 1,
   "metadata": {},
   "outputs": [],
   "source": [
    "import os\n",
    "os.environ['KMP_DUPLICATE_LIB_OK']='True'\n",
    "from xgboost import XGBClassifier"
   ]
  },
  {
   "cell_type": "code",
   "execution_count": 2,
   "metadata": {},
   "outputs": [],
   "source": [
    "import os\n",
    "import sys\n",
    "module_path = os.path.abspath(os.path.join('..'))\n",
    "if module_path not in sys.path:\n",
    "    sys.path.append(module_path)"
   ]
  },
  {
   "cell_type": "code",
   "execution_count": 3,
   "metadata": {},
   "outputs": [],
   "source": [
    "import functools\n",
    "import pathlib\n",
    "import pickle\n",
    "import warnings\n",
    "\n",
    "import numpy as np\n",
    "import pandas as pd\n",
    "from sklearn.exceptions import DataConversionWarning\n",
    "from sklearn.linear_model import LinearRegression\n",
    "from sklearn.metrics import mean_absolute_error, mean_squared_error, r2_score\n",
    "from sklearn.preprocessing import StandardScaler\n",
    "\n",
    "import src.utils.model as model\n",
    "import src.utils.misc as misc\n",
    "\n",
    "warnings.filterwarnings('ignore', category=DataConversionWarning)"
   ]
  },
  {
   "cell_type": "code",
   "execution_count": 4,
   "metadata": {},
   "outputs": [],
   "source": [
    "def score(fit_estimator, X, y):\n",
    "    pred = fit_estimator.predict(X)\n",
    "    return {m.__name__: m(y, pred) for m in metrics}\n",
    "\n",
    "\n",
    "def save_model(model, name):\n",
    "    file = models / f'{name}.pkl'\n",
    "    with open(file, 'wb') as fp:\n",
    "        pickle.dump(model, fp)"
   ]
  },
  {
   "cell_type": "code",
   "execution_count": 5,
   "metadata": {},
   "outputs": [],
   "source": [
    "data = pathlib.Path('..') / 'data' \n",
    "models = data / 'models'\n",
    "pkls = data / 'pkls'\n",
    "\n",
    "with open(models / 'catboost.pkl', 'rb') as fp:\n",
    "    catboost = pickle.load(fp)\n",
    "\n",
    "with open(models / 'extra_trees.pkl', 'rb') as fp:\n",
    "    extra_trees = pickle.load(fp)\n",
    "    \n",
    "with open(models / 'gradient_boost.pkl', 'rb') as fp:\n",
    "    gradient_boost = pickle.load(fp)\n",
    "    \n",
    "with open(models / 'rand_forest.pkl', 'rb') as fp:\n",
    "    rand_forest = pickle.load(fp)\n",
    "    \n",
    "with open(models / 'svr.pkl', 'rb') as fp:\n",
    "    svr = pickle.load(fp)\n",
    "    \n",
    "with open(models / 'xgboost.pkl', 'rb') as fp:\n",
    "    xgboost = pickle.load(fp)"
   ]
  },
  {
   "cell_type": "code",
   "execution_count": 6,
   "metadata": {},
   "outputs": [],
   "source": [
    "train_df = misc.merge_features(pkls, 'train')\n",
    "valid_df = misc.merge_features(pkls, 'valid')\n",
    "\n",
    "X_train = train_df.drop(columns=['domain1_percent', 'domain2_percent'])\n",
    "y_train = train_df['domain1_percent']\n",
    "\n",
    "X_valid = valid_df.drop(columns=['domain1_percent', 'domain2_percent'])\n",
    "y_valid = valid_df['domain1_percent']\n",
    "\n",
    "scaler = StandardScaler()\n",
    "X_train = scaler.fit_transform(X_train)\n",
    "X_valid = scaler.transform(X_valid)"
   ]
  },
  {
   "cell_type": "code",
   "execution_count": 7,
   "metadata": {},
   "outputs": [],
   "source": [
    "metrics = [mean_absolute_error, mean_squared_error, r2_score]\n",
    "grid_cv = functools.partial(model.grid_search_cv, X=X_train, y=y_train)\n",
    "score_est = functools.partial(model.score_estimator, \n",
    "                              metrics=metrics, \n",
    "                              X=X_train,\n",
    "                              y=y_train)\n",
    "plot_resid = functools.partial(model.plot_residuals, X=X_train, y=y_train)"
   ]
  },
  {
   "cell_type": "code",
   "execution_count": 23,
   "metadata": {},
   "outputs": [],
   "source": [
    "def pred_estimators(X, estimators):\n",
    "    dct = {type(est).__name__: est.predict(X) for est in estimators}\n",
    "    X_pred = pd.DataFrame(dct)\n",
    "    return X_pred\n",
    "\n",
    "# omit extra_trees since 0.97 r-squared is likely overfitting\n",
    "estimators = [catboost, gradient_boost, rand_forest, svr, xgboost]\n",
    "X_pred_train = pred_estimators(X_train, estimators)\n",
    "X_pred_valid = pred_estimators(X_valid, estimators)\n",
    "\n",
    "stacker= LinearRegression()\n",
    "stacker.fit(X_pred_train, y_train);"
   ]
  },
  {
   "cell_type": "markdown",
   "metadata": {},
   "source": [
    "### Train Set"
   ]
  },
  {
   "cell_type": "code",
   "execution_count": 24,
   "metadata": {},
   "outputs": [
    {
     "data": {
      "text/plain": [
       "{'mean_absolute_error': 9.131611662164794,\n",
       " 'mean_squared_error': 143.65934201634565,\n",
       " 'r2_score': 0.7381592387601231}"
      ]
     },
     "execution_count": 24,
     "metadata": {},
     "output_type": "execute_result"
    }
   ],
   "source": [
    "score(stacker, X_pred_train, y_train)"
   ]
  },
  {
   "cell_type": "code",
   "execution_count": 10,
   "metadata": {},
   "outputs": [
    {
     "data": {
      "text/plain": [
       "{'mean_absolute_error': 9.7861010170049,\n",
       " 'mean_squared_error': 168.89167847601186,\n",
       " 'r2_score': 0.6921695099076273}"
      ]
     },
     "execution_count": 10,
     "metadata": {},
     "output_type": "execute_result"
    }
   ],
   "source": [
    "score(catboost, X_train, y_train)"
   ]
  },
  {
   "cell_type": "code",
   "execution_count": 11,
   "metadata": {},
   "outputs": [
    {
     "data": {
      "text/plain": [
       "{'mean_absolute_error': 2.4028077837620265,\n",
       " 'mean_squared_error': 12.575471700993393,\n",
       " 'r2_score': 0.9770793111194677}"
      ]
     },
     "execution_count": 11,
     "metadata": {},
     "output_type": "execute_result"
    }
   ],
   "source": [
    "score(extra_trees, X_train, y_train)"
   ]
  },
  {
   "cell_type": "code",
   "execution_count": 12,
   "metadata": {},
   "outputs": [
    {
     "data": {
      "text/plain": [
       "{'mean_absolute_error': 10.820734817246063,\n",
       " 'mean_squared_error': 201.95194881447347,\n",
       " 'r2_score': 0.6319121940190862}"
      ]
     },
     "execution_count": 12,
     "metadata": {},
     "output_type": "execute_result"
    }
   ],
   "source": [
    "score(gradient_boost, X_train, y_train)"
   ]
  },
  {
   "cell_type": "code",
   "execution_count": 13,
   "metadata": {},
   "outputs": [
    {
     "data": {
      "text/plain": [
       "{'mean_absolute_error': 10.501461336695913,\n",
       " 'mean_squared_error': 191.22502440274397,\n",
       " 'r2_score': 0.6514636273913085}"
      ]
     },
     "execution_count": 13,
     "metadata": {},
     "output_type": "execute_result"
    }
   ],
   "source": [
    "score(rand_forest, X_train, y_train)"
   ]
  },
  {
   "cell_type": "code",
   "execution_count": 14,
   "metadata": {},
   "outputs": [
    {
     "data": {
      "text/plain": [
       "{'mean_absolute_error': 12.334358186225979,\n",
       " 'mean_squared_error': 273.4511543780627,\n",
       " 'r2_score': 0.5015941363832207}"
      ]
     },
     "execution_count": 14,
     "metadata": {},
     "output_type": "execute_result"
    }
   ],
   "source": [
    "score(svr, X_train, y_train)"
   ]
  },
  {
   "cell_type": "code",
   "execution_count": 15,
   "metadata": {},
   "outputs": [
    {
     "data": {
      "text/plain": [
       "{'mean_absolute_error': 10.836947873813523,\n",
       " 'mean_squared_error': 202.94300046037134,\n",
       " 'r2_score': 0.63010585331233}"
      ]
     },
     "execution_count": 15,
     "metadata": {},
     "output_type": "execute_result"
    }
   ],
   "source": [
    "score(xgboost, X_train, y_train)"
   ]
  },
  {
   "cell_type": "markdown",
   "metadata": {},
   "source": [
    "### Valid Sets"
   ]
  },
  {
   "cell_type": "code",
   "execution_count": 25,
   "metadata": {},
   "outputs": [
    {
     "data": {
      "text/plain": [
       "{'mean_absolute_error': 10.134197339301112,\n",
       " 'mean_squared_error': 177.32279742339395,\n",
       " 'r2_score': 0.6190320835239496}"
      ]
     },
     "execution_count": 25,
     "metadata": {},
     "output_type": "execute_result"
    }
   ],
   "source": [
    "score(stacker, X_pred_valid, y_valid)"
   ]
  },
  {
   "cell_type": "code",
   "execution_count": 17,
   "metadata": {},
   "outputs": [
    {
     "data": {
      "text/plain": [
       "{'mean_absolute_error': 9.5911674900411,\n",
       " 'mean_squared_error': 160.5404959339303,\n",
       " 'r2_score': 0.6550879010782377}"
      ]
     },
     "execution_count": 17,
     "metadata": {},
     "output_type": "execute_result"
    }
   ],
   "source": [
    "score(catboost, X_valid, y_valid)"
   ]
  },
  {
   "cell_type": "code",
   "execution_count": 18,
   "metadata": {},
   "outputs": [
    {
     "data": {
      "text/plain": [
       "{'mean_absolute_error': 9.946190616732732,\n",
       " 'mean_squared_error': 174.66536981121456,\n",
       " 'r2_score': 0.6247414151796001}"
      ]
     },
     "execution_count": 18,
     "metadata": {},
     "output_type": "execute_result"
    }
   ],
   "source": [
    "score(extra_trees, X_valid, y_valid)"
   ]
  },
  {
   "cell_type": "code",
   "execution_count": 19,
   "metadata": {},
   "outputs": [
    {
     "data": {
      "text/plain": [
       "{'mean_absolute_error': 9.926562417509873,\n",
       " 'mean_squared_error': 169.43600510969043,\n",
       " 'r2_score': 0.6359764069786311}"
      ]
     },
     "execution_count": 19,
     "metadata": {},
     "output_type": "execute_result"
    }
   ],
   "source": [
    "score(gradient_boost, X_valid, y_valid)"
   ]
  },
  {
   "cell_type": "code",
   "execution_count": 20,
   "metadata": {},
   "outputs": [
    {
     "data": {
      "text/plain": [
       "{'mean_absolute_error': 10.552453943164833,\n",
       " 'mean_squared_error': 196.25524808599724,\n",
       " 'r2_score': 0.5783567931071403}"
      ]
     },
     "execution_count": 20,
     "metadata": {},
     "output_type": "execute_result"
    }
   ],
   "source": [
    "score(rand_forest, X_valid, y_valid)"
   ]
  },
  {
   "cell_type": "code",
   "execution_count": 21,
   "metadata": {},
   "outputs": [
    {
     "data": {
      "text/plain": [
       "{'mean_absolute_error': 11.619603726958935,\n",
       " 'mean_squared_error': 241.9746501613391,\n",
       " 'r2_score': 0.48013126540138384}"
      ]
     },
     "execution_count": 21,
     "metadata": {},
     "output_type": "execute_result"
    }
   ],
   "source": [
    "score(svr, X_valid, y_valid)"
   ]
  },
  {
   "cell_type": "code",
   "execution_count": 22,
   "metadata": {},
   "outputs": [
    {
     "data": {
      "text/plain": [
       "{'mean_absolute_error': 9.926696587196737,\n",
       " 'mean_squared_error': 168.612737857514,\n",
       " 'r2_score': 0.6377451497140378}"
      ]
     },
     "execution_count": 22,
     "metadata": {},
     "output_type": "execute_result"
    }
   ],
   "source": [
    "score(xgboost, X_valid, y_valid)"
   ]
  },
  {
   "cell_type": "code",
   "execution_count": null,
   "metadata": {},
   "outputs": [],
   "source": []
  }
 ],
 "metadata": {
  "kernelspec": {
   "display_name": "Python 3",
   "language": "python",
   "name": "python3"
  },
  "language_info": {
   "codemirror_mode": {
    "name": "ipython",
    "version": 3
   },
   "file_extension": ".py",
   "mimetype": "text/x-python",
   "name": "python",
   "nbconvert_exporter": "python",
   "pygments_lexer": "ipython3",
   "version": "3.6.8"
  }
 },
 "nbformat": 4,
 "nbformat_minor": 2
}
