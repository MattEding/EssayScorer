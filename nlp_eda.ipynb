{
 "cells": [
  {
   "cell_type": "code",
   "execution_count": 1,
   "metadata": {},
   "outputs": [],
   "source": [
    "import collections\n",
    "import pathlib\n",
    "import pickle\n",
    "\n",
    "import numpy as np\n",
    "import pandas as pd\n",
    "\n",
    "from textblob import TextBlob, Word, WordList\n",
    "\n",
    "from nltk.corpus import stopwords\n",
    "from nltk.metrics.distance import edit_distance\n",
    "\n",
    "from sklearn.feature_extraction.text import CountVectorizer, TfidfVectorizer, HashingVectorizer\n",
    "from sklearn.metrics.pairwise import cosine_similarity, euclidean_distances\n",
    "\n",
    "import nlp_util\n",
    "import utils"
   ]
  },
  {
   "cell_type": "code",
   "execution_count": 2,
   "metadata": {},
   "outputs": [],
   "source": [
    "data = pathlib.Path.cwd() / 'data'\n",
    "pkls = data / 'pkls'\n",
    "npys = data / 'npys'\n",
    "\n",
    "descr = pd.read_pickle(pkls / 'descr.pkl')\n",
    "train = pd.read_pickle(pkls / 'train.pkl')"
   ]
  },
  {
   "cell_type": "code",
   "execution_count": 3,
   "metadata": {},
   "outputs": [],
   "source": [
    "prompts = descr['prompt']\n",
    "essays = train['essay']\n",
    "corrections = np.load(npys / 'train_corrections.npy')\n",
    "\n",
    "english_stop = stopwords.words('english')"
   ]
  },
  {
   "cell_type": "code",
   "execution_count": 4,
   "metadata": {},
   "outputs": [],
   "source": [
    "orig_str = nlp_util.lower_with_proper(essays[0])\n",
    "\n",
    "orig_tb = TextBlob(orig_str)\n",
    "corr_tb = orig_tb.correct()\n",
    "\n",
    "corr_str = str(corr_tb)\n",
    "\n",
    "# orig_words = orig_tb.tokenize()\n",
    "# corr_words = corr_tb.tokenize()\n",
    "\n",
    "lemmas = nlp_util.lemmatize(corr_tb)"
   ]
  },
  {
   "cell_type": "code",
   "execution_count": 5,
   "metadata": {},
   "outputs": [
    {
     "data": {
      "text/plain": [
       "Counter({'JJ': 18,\n",
       "         'NN': 60,\n",
       "         'VBP': 12,\n",
       "         'NNS': 18,\n",
       "         'IN': 53,\n",
       "         'PRP': 26,\n",
       "         'TO': 10,\n",
       "         'VB': 23,\n",
       "         'VBZ': 15,\n",
       "         'DT': 20,\n",
       "         'CC': 14,\n",
       "         'RB': 23,\n",
       "         'WRB': 4,\n",
       "         'MD': 5,\n",
       "         'PRP$': 12,\n",
       "         'EX': 1,\n",
       "         'NNP': 5,\n",
       "         'VBG': 13,\n",
       "         'RP': 3,\n",
       "         'VBN': 4,\n",
       "         'VBD': 1,\n",
       "         'WP': 1,\n",
       "         'POS': 1,\n",
       "         'JJR': 1})"
      ]
     },
     "execution_count": 5,
     "metadata": {},
     "output_type": "execute_result"
    }
   ],
   "source": [
    "nlp_util.parts_of_speech(corr_tb)"
   ]
  },
  {
   "cell_type": "code",
   "execution_count": 6,
   "metadata": {},
   "outputs": [
    {
     "data": {
      "text/plain": [
       "WordList(['dear', 'local', 'newspaper', ',', 'i', 'think', 'effect', 'computer', 'have', 'on', 'people', 'are', 'great', 'learning', 'skill/affects', 'because', 'they', 'give', 'u', 'time', 'to', 'chat', 'with', 'friends/new', 'people', ',', 'help', 'u', 'learn', 'about', 'the', 'globe', '(', 'astronomy', ')', 'and', 'keep', 'u', 'out', 'of', 'trouble', '!', 'thing', 'about', '!', 'dont', 'you', 'think', 'so', '?', 'how', 'would', 'you', 'feel', 'if', 'your', 'teenager', 'is', 'always', 'on', 'the', 'phone', 'with', 'friend', '!', 'do', 'you', 'ever', 'time', 'to', 'chat', 'with', 'your', 'friend', 'or', 'business', 'partner', 'about', 'thing', '.', 'well', 'now', '-', 'there', \"'s\", 'a', 'new', 'way', 'to', 'chat', 'the', 'computer', ',', 'theirs', 'plenty', 'of', 'site', 'on', 'the', 'internet', 'to', 'do', 'so', ':', 'ORGANIZATION1', ',', 'ORGANIZATION2', ',', 'CAPS1', ',', 'facebook', ',', 'space', 'act', '.', 'just', 'think', 'now', 'while', 'your', 'setting', 'up', 'meeting', 'with', 'your', 'bos', 'on', 'the', 'computer', ',', 'your', 'teenager', 'is', 'having', 'fun', 'on', 'the', 'phone', 'not', 'rushing', 'to', 'get', 'off', 'cause', 'you', 'want', 'to', 'use', 'it', '.', 'how', 'did', 'you', 'learn', 'about', 'other', 'country/states', 'outside', 'of', 'yours', '?', 'well', 'i', 'have', 'by', 'computer/internet', ',', 'it', \"'s\", 'a', 'new', 'way', 'to', 'learn', 'about', 'what', 'going', 'on', 'in', 'our', 'time', '!', 'you', 'might', 'think', 'your', 'child', 'spends', 'a', 'lot', 'of', 'time', 'on', 'the', 'computer', ',', 'but', 'ask', 'them', 'so', 'question', 'about', 'the', 'economy', ',', 'sea', 'floor', 'spreading', 'or', 'even', 'about', 'the', 'DATE1', \"'S\", 'you', \"'ll\", 'be', 'surprise', 'at', 'how', 'much', 'he/she', 'know', '.', 'believe', 'it', 'or', 'not', 'the', 'computer', 'is', 'much', 'interesting', 'then', 'in', 'class', 'all', 'day', 'reading', 'out', 'of', 'book', '.', 'if', 'your', 'child', 'is', 'home', 'on', 'your', 'computer', 'or', 'at', 'a', 'local', 'library', ',', 'it', \"'s\", 'better', 'than', 'being', 'out', 'with', 'friend', 'being', 'fresh', ',', 'or', 'being', 'perpressured', 'to', 'doing', 'something', 'they', 'know', 'isn', 'right', '.', 'you', 'might', 'not', 'know', 'where', 'your', 'child', 'is', ',', 'CAPS2', 'forbidden', 'in', 'a', 'hospital', 'bed', 'because', 'of', 'a', 'drive-by', '.', 'rather', 'than', 'your', 'child', 'on', 'the', 'computer', 'learning', ',', 'chatting', 'or', 'just', 'playing', 'game', ',', 'safe', 'and', 'sound', 'in', 'your', 'home', 'or', 'community', 'place', '.', 'now', 'i', 'hope', 'you', 'have', 'reached', 'a', 'point', 'to', 'understand', 'and', 'agree', 'with', 'me', ',', 'because', 'computer', 'can', 'have', 'great', 'effect', 'on', 'you', 'or', 'child', 'because', 'it', 'give', 'u', 'time', 'to', 'chat', 'with', 'friends/new', 'people', ',', 'help', 'u', 'learn', 'about', 'the', 'globe', 'and', 'believe', 'or', 'not', 'keep', 'u', 'out', 'of', 'trouble', '.', 'thank', 'you', 'for', 'listening', '.'])"
      ]
     },
     "execution_count": 6,
     "metadata": {},
     "output_type": "execute_result"
    }
   ],
   "source": [
    "lemmas"
   ]
  },
  {
   "cell_type": "code",
   "execution_count": 7,
   "metadata": {},
   "outputs": [
    {
     "data": {
      "text/plain": [
       "\"dear local newspaper, i think effects computers have on people are great learning skill/affects because they give us time to chat with friends/new people, helps us learn about the globe(astronomy) and keeps us out of trouble! thing about! dont you think so? how would you feel if your teenager is always on the phone with friends! do you ever time to chat with your friends or business partner about things. well now - there's a new way to chat the computer, theirs plenty of sites on the internet to do so: ORGANIZATION1, ORGANIZATION2, CAPS1, facebook, space act. just think now while your setting up meeting with your boss on the computer, your teenager is having fun on the phone not rushing to get off cause you want to use it. how did you learn about other country/states outside of yours? well i have by computer/internet, it's a new way to learn about what going on in our time! you might think your child spends a lot of time on the computer, but ask them so question about the economy, sea floor spreading or even about the DATE1'S you'll be surprise at how much he/she knows. believe it or not the computer is much interesting then in class all day reading out of books. if your child is home on your computer or at a local library, it's better than being out with friends being fresh, or being perpressured to doing something they know isn right. you might not know where your child is, CAPS2 forbidden in a hospital bed because of a drive-by. rather than your child on the computer learning, chatting or just playing games, safe and sound in your home or community place. now i hope you have reached a point to understand and agree with me, because computers can have great effects on you or child because it gives us time to chat with friends/new people, helps us learn about the globe and believe or not keeps us out of trouble. thank you for listening.\""
      ]
     },
     "execution_count": 7,
     "metadata": {},
     "output_type": "execute_result"
    }
   ],
   "source": [
    "corr_str"
   ]
  },
  {
   "cell_type": "code",
   "execution_count": 8,
   "metadata": {},
   "outputs": [
    {
     "data": {
      "text/plain": [
       "'!\"#$%&\\'()*+,-./:;<=>?@[\\\\]^_`{|}~'"
      ]
     },
     "execution_count": 8,
     "metadata": {},
     "output_type": "execute_result"
    }
   ],
   "source": [
    "nlp_util.PUNCTUATION"
   ]
  },
  {
   "cell_type": "code",
   "execution_count": 11,
   "metadata": {},
   "outputs": [
    {
     "data": {
      "text/plain": [
       "WordList(['dear', 'local', 'newspaper', 'think', 'effect', 'computer', 'people', 'great', 'learning', 'skill/affects', 'give', 'u', 'time', 'chat', 'friends/new', 'people', 'help', 'u', 'learn', 'globe', 'astronomy', 'keep', 'u', 'trouble', 'thing', 'dont', 'think', 'would', 'feel', 'teenager', 'always', 'phone', 'friend', 'ever', 'time', 'chat', 'friend', 'business', 'partner', 'thing', 'well', \"'s\", 'new', 'way', 'chat', 'computer', 'plenty', 'site', 'internet', 'ORGANIZATION1', 'ORGANIZATION2', 'CAPS1', 'facebook', 'space', 'act', 'think', 'setting', 'meeting', 'bos', 'computer', 'teenager', 'fun', 'phone', 'rushing', 'get', 'cause', 'want', 'use', 'learn', 'country/states', 'outside', 'well', 'computer/internet', \"'s\", 'new', 'way', 'learn', 'going', 'time', 'might', 'think', 'child', 'spends', 'lot', 'time', 'computer', 'ask', 'question', 'economy', 'sea', 'floor', 'spreading', 'even', 'DATE1', \"'S\", \"'ll\", 'surprise', 'much', 'he/she', 'know', 'believe', 'computer', 'much', 'interesting', 'class', 'day', 'reading', 'book', 'child', 'home', 'computer', 'local', 'library', \"'s\", 'better', 'friend', 'fresh', 'perpressured', 'something', 'know', 'right', 'might', 'know', 'child', 'CAPS2', 'forbidden', 'hospital', 'bed', 'drive-by', 'rather', 'child', 'computer', 'learning', 'chatting', 'playing', 'game', 'safe', 'sound', 'home', 'community', 'place', 'hope', 'reached', 'point', 'understand', 'agree', 'computer', 'great', 'effect', 'child', 'give', 'u', 'time', 'chat', 'friends/new', 'people', 'help', 'u', 'learn', 'globe', 'believe', 'keep', 'u', 'trouble', 'thank', 'listening'])"
      ]
     },
     "execution_count": 11,
     "metadata": {},
     "output_type": "execute_result"
    }
   ],
   "source": [
    "no_stops = WordList(l for l in lemmas if l not in nlp_util.PUNCTUATION and l not in nlp_util.STOPWORDS)\n",
    "no_stops"
   ]
  },
  {
   "cell_type": "code",
   "execution_count": 12,
   "metadata": {},
   "outputs": [
    {
     "data": {
      "text/plain": [
       "\"dear local newspaper think effect computer people great learning skill/affects give u time chat friends/new people help u learn globe astronomy keep u trouble thing dont think would feel teenager always phone friend ever time chat friend business partner thing well 's new way chat computer plenty site internet ORGANIZATION1 ORGANIZATION2 CAPS1 facebook space act think setting meeting bos computer teenager fun phone rushing get cause want use learn country/states outside well computer/internet 's new way learn going time might think child spends lot time computer ask question economy sea floor spreading even DATE1 'S 'll surprise much he/she know believe computer much interesting class day reading book child home computer local library 's better friend fresh perpressured something know right might know child CAPS2 forbidden hospital bed drive-by rather child computer learning chatting playing game safe sound home community place hope reached point understand agree computer great effect child give u time chat friends/new people help u learn globe believe keep u trouble thank listening\""
      ]
     },
     "execution_count": 12,
     "metadata": {},
     "output_type": "execute_result"
    }
   ],
   "source": [
    "' '.join(no_stops)"
   ]
  },
  {
   "cell_type": "code",
   "execution_count": null,
   "metadata": {},
   "outputs": [],
   "source": []
  },
  {
   "cell_type": "code",
   "execution_count": 36,
   "metadata": {},
   "outputs": [],
   "source": [
    "from importlib import reload\n",
    "reload(nlp_util);"
   ]
  }
 ],
 "metadata": {
  "kernelspec": {
   "display_name": "Python 3",
   "language": "python",
   "name": "python3"
  },
  "language_info": {
   "codemirror_mode": {
    "name": "ipython",
    "version": 3
   },
   "file_extension": ".py",
   "mimetype": "text/x-python",
   "name": "python",
   "nbconvert_exporter": "python",
   "pygments_lexer": "ipython3",
   "version": "3.6.8"
  }
 },
 "nbformat": 4,
 "nbformat_minor": 2
}
