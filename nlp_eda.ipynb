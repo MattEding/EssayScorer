{
 "cells": [
  {
   "cell_type": "code",
   "execution_count": 12,
   "metadata": {},
   "outputs": [],
   "source": [
    "import pathlib\n",
    "\n",
    "import numpy as np\n",
    "import pandas as pd\n",
    "from textblob import TextBlob\n",
    "\n",
    "from nltk.metrics.distance import edit_distance\n",
    "from sklearn.feature_extraction.text import CountVectorizer, TfidfVectorizer\n",
    "from scipy.spatial.distance import cosine\n",
    "\n",
    "import utils"
   ]
  },
  {
   "cell_type": "code",
   "execution_count": 2,
   "metadata": {},
   "outputs": [],
   "source": [
    "def cosine_similarity(u, v, w=None):\n",
    "    return 1 - cosine(u, v, w)\n",
    "\n",
    "\n",
    "def similarity_essays_to_prompt(doc_term_mtx, metric):\n",
    "    prompt = doc_term_mtx.iloc[0]\n",
    "    essays = doc_term_mtx[1:]\n",
    "    scores = ((i, metric(essay, prompt)) for i, essay in essays.iterrows())\n",
    "    return sorted(scores, key=lambda x: x[1], reverse=True)"
   ]
  },
  {
   "cell_type": "code",
   "execution_count": 3,
   "metadata": {},
   "outputs": [],
   "source": [
    "data = pathlib.Path.cwd() / 'data'\n",
    "descr = pd.read_pickle(data / 'descr.pkl')\n",
    "train = pd.read_pickle(data / 'train.pkl')"
   ]
  },
  {
   "cell_type": "code",
   "execution_count": 4,
   "metadata": {},
   "outputs": [],
   "source": [
    "prompts = descr['prompt']\n",
    "essays = train['essay']\n",
    "corpus = pd.concat([pd.Series(prompts[0]), essays[:5]])"
   ]
  },
  {
   "cell_type": "code",
   "execution_count": 5,
   "metadata": {},
   "outputs": [
    {
     "data": {
      "text/plain": [
       "[(3, 0.6434103964757235),\n",
       " (4, 0.4135763891545543),\n",
       " (5, 0.40486881513293227),\n",
       " (1, 0.2886150127292031),\n",
       " (2, 0.2875083056936687)]"
      ]
     },
     "execution_count": 5,
     "metadata": {},
     "output_type": "execute_result"
    }
   ],
   "source": [
    "count_vec = CountVectorizer(stop_words='english')\n",
    "X_count = count_vec.fit_transform(corpus)\n",
    "doc_term_mtx_count = pd.DataFrame(X_count.toarray(), columns=count_vec.get_feature_names())\n",
    "\n",
    "similarity_essays_to_prompt(doc_term_mtx_count, cosine_similarity)"
   ]
  },
  {
   "cell_type": "code",
   "execution_count": 6,
   "metadata": {},
   "outputs": [
    {
     "data": {
      "text/plain": [
       "[(3, 0.4589585009379219),\n",
       " (5, 0.22227805596964267),\n",
       " (4, 0.20122636625176427),\n",
       " (1, 0.19135359762819126),\n",
       " (2, 0.14588618973159329)]"
      ]
     },
     "execution_count": 6,
     "metadata": {},
     "output_type": "execute_result"
    }
   ],
   "source": [
    "tfidf_vec = TfidfVectorizer(stop_words='english')\n",
    "X_tfidf = tfidf_vec.fit_transform(corpus)\n",
    "doc_term_mtx_tfidf = pd.DataFrame(X_tfidf.toarray(), columns=tfidf_vec.get_feature_names())\n",
    "\n",
    "similarity_essays_to_prompt(doc_term_mtx_tfidf, cosine_similarity)"
   ]
  },
  {
   "cell_type": "code",
   "execution_count": null,
   "metadata": {},
   "outputs": [],
   "source": []
  },
  {
   "cell_type": "code",
   "execution_count": null,
   "metadata": {},
   "outputs": [],
   "source": []
  },
  {
   "cell_type": "markdown",
   "metadata": {},
   "source": [
    "# TextBlob Spellcheck"
   ]
  },
  {
   "cell_type": "code",
   "execution_count": 97,
   "metadata": {},
   "outputs": [
    {
     "data": {
      "text/plain": [
       "(TextBlob(\"Dear @ORGANIZATION1, The computer blinked to life and an image of a blonde haired girl filled the screen. It was easy to find out how life was in @LOCATION2, thanks to the actual @CAPS1 girl explaining it. Going to the library wouldn't have filled one with this priceless information and human interection. Computers are a nessessity of life if soceity wishes to grow and expand. They should be supported because they teach hand eye coordination, give people the ability to learn about faraway places, and allow people to talk to others online. Firstly, computers help teach hand eye coordination. Hand-eye coordination is a useful ability that is usod to excel in sports. In a recent survey, @PERCENT1 of kids felt their hand eye coordination improves after computer use. Even a simple thing like tying can build up this skill. Famous neurologist @CAPS2 @PERSON1 stated in an article last week that, \"@CAPS3 and computer strength the @CAPS2. When on the computer, you automatically process what the eyes see into a command for your hands.\" @CAPS4 hand eye coordination can improve people in sports such as baseball and basketball. If someone wan't to become better in these sports, all they'd need to do was turn on the computer. Once people become better at sports, they're more likely to play them and become more healthy. In reality, computers can help with exercising instead of decreasing it. Additionaly, computers allow people to access information about faraway places and people. If someone wanted to reasearch @LOCATION1, all they'd need to do was type in a search would be presented to them in it would link forever to search through countless things. Also, having the ability to learn about cultures can make peole peole and their cultures, they understand others something. Increase tolerance people are. Computers are a resourceful tool that they can help people in every different aspect of life. Lastly, computer and in technology can allow people to chat. Computer chat and video chat can help the all different nations. Bring on good terms places other than can help us understand story comes out about something that happend in @LOCATION3, people can just go on their computer and ask an actual @LOCATION3 citizen their take on the matter. Also, video chat and online conversation can cut down on expensive phone bills. No one wants to pay more than they have to in this economy. Another good point is that you can acess family members you scaresly visit. It can help you connect within your own family more. Oviously, computers are a useful aid in todays era. their advancements push the world foreward to a better place. Computers can help people because they help teach handeye coordination, give people the bility to learn about faraway places and people, and allow people to talk online with others. Think of a world with no computers or technologicall advancements. The world would be sectored and unified, contact between people scare, and information even. The internet is like thousands or librarys put together. Nobody would know much about other nations and news would travel slower. Is that the kind of palce you want people to live in?\"),\n",
       " TextBlob(\"Dear @ORGANIZATION1, The computer blinked to life and an image of a blonde haired girl filled the screen. It was easy to find out how life was in @LOCATION2, thanks to the actual @CAPS1 girl explaining it. Going to the library wouldn't have filled one with this priceless information and human interaction. Computers are a necessity of life if society wishes to grow and expand. They should be supported because they teach hand eye coordination, give people the ability to learn about faraway places, and allow people to talk to others online. Firstly, computers help teach hand eye coordination. And-eye coordination is a useful ability that is used to expel in sports. In a recent survey, @PERCENT1 of kiss felt their hand eye coordination improves after computer use. Even a simple thing like tying can build up this skill. Famous neurologist @CAPS2 @PERSON1 stated in an article last week that, \"@CAPS3 and computer strength the @CAPS2. When on the computer, you automatically process what the eyes see into a command for your hands.\" @CAPS4 hand eye coordination can improve people in sports such as baseball and basketball. Of someone wan't to become better in these sports, all they'd need to do was turn on the computer. Once people become better at sports, they're more likely to play them and become more healthy. In reality, computers can help with exercising instead of increasing it. Additional, computers allow people to access information about faraway places and people. Of someone wanted to research @LOCATION1, all they'd need to do was type in a search would be presented to them in it would link forever to search through countless things. Also, having the ability to learn about cultures can make people people and their cultures, they understand others something. Increase tolerable people are. Computers are a resourceful tool that they can help people in every different aspect of life. Lastly, computer and in technology can allow people to chat. Computer chat and video chat can help the all different nations. Bring on good terms places other than can help us understand story comes out about something that happened in @LOCATION3, people can just go on their computer and ask an actual @LOCATION3 citizen their take on the matter. Also, video chat and online conversation can cut down on expensive phone bills. To one wants to pay more than they have to in this economy. Another good point is that you can access family members you scarcely visit. It can help you connect within your own family more. Obviously, computers are a useful aid in today era. their advancement push the world forward to a better place. Computers can help people because they help teach handed coordination, give people the ability to learn about faraway places and people, and allow people to talk online with others. Think of a world with no computers or technological advancement. The world would be secured and unified, contact between people scare, and information even. The internet is like thousands or library put together. Nobody would know much about other nations and news would travel slower. Is that the kind of place you want people to live in?\"))"
      ]
     },
     "execution_count": 97,
     "metadata": {},
     "output_type": "execute_result"
    }
   ],
   "source": [
    "tb_prompt = TextBlob(prompts[0])\n",
    "# tb_essay = TextBlob(essays[1587]) # low score\n",
    "tb_essay = TextBlob(essays[15])  # high score\n",
    "tb_correct = tb_essay.correct()\n",
    "tb_essay, tb_correct"
   ]
  },
  {
   "cell_type": "code",
   "execution_count": 98,
   "metadata": {},
   "outputs": [
    {
     "data": {
      "text/plain": [
       "(3162, 3168)"
      ]
     },
     "execution_count": 98,
     "metadata": {},
     "output_type": "execute_result"
    }
   ],
   "source": [
    "len(tb_correct), len(tb_essay)"
   ]
  },
  {
   "cell_type": "code",
   "execution_count": 99,
   "metadata": {},
   "outputs": [
    {
     "data": {
      "text/plain": [
       "[(1, 0.9891273653129933)]"
      ]
     },
     "execution_count": 99,
     "metadata": {},
     "output_type": "execute_result"
    }
   ],
   "source": [
    "cv = CountVectorizer()\n",
    "X_c = cv.fit_transform([str(tb_correct), str(tb_essay)])\n",
    "doc_term_mtx_c = pd.DataFrame(X_c.toarray(), columns=cv.get_feature_names())\n",
    "\n",
    "similarity_essays_to_prompt(doc_term_mtx_c, cosine_similarity)"
   ]
  },
  {
   "cell_type": "code",
   "execution_count": 100,
   "metadata": {},
   "outputs": [
    {
     "data": {
      "text/plain": [
       "[(1, 0.9813155087358891)]"
      ]
     },
     "execution_count": 100,
     "metadata": {},
     "output_type": "execute_result"
    }
   ],
   "source": [
    "tv = TfidfVectorizer()\n",
    "X_t = tv.fit_transform([str(tb_correct), str(tb_essay)])\n",
    "doc_term_mtx_t = pd.DataFrame(X_t.toarray(), columns=tv.get_feature_names())\n",
    "\n",
    "similarity_essays_to_prompt(doc_term_mtx_t, cosine_similarity)"
   ]
  },
  {
   "cell_type": "code",
   "execution_count": 101,
   "metadata": {},
   "outputs": [
    {
     "data": {
      "text/plain": [
       "Sentiment(polarity=0.24684049800328872, subjectivity=0.47548911037283115)"
      ]
     },
     "execution_count": 101,
     "metadata": {},
     "output_type": "execute_result"
    }
   ],
   "source": [
    "tb_correct.sentiment"
   ]
  },
  {
   "cell_type": "code",
   "execution_count": 102,
   "metadata": {},
   "outputs": [
    {
     "data": {
      "text/plain": [
       "WordList(['Dear', '@', 'ORGANIZATION1', ',', 'The', 'computer', 'blinked', 'to', 'life', 'and', 'an', 'image', 'of', 'a', 'blonde', 'haired', 'girl', 'filled', 'the', 'screen', '.', 'It', 'was', 'easy', 'to', 'find', 'out', 'how', 'life', 'was', 'in', '@', 'LOCATION2', ',', 'thanks', 'to', 'the', 'actual', '@', 'CAPS1', 'girl', 'explaining', 'it', '.', 'Going', 'to', 'the', 'library', 'would', \"n't\", 'have', 'filled', 'one', 'with', 'this', 'priceless', 'information', 'and', 'human', 'interaction', '.', 'Computers', 'are', 'a', 'necessity', 'of', 'life', 'if', 'society', 'wishes', 'to', 'grow', 'and', 'expand', '.', 'They', 'should', 'be', 'supported', 'because', 'they', 'teach', 'hand', 'eye', 'coordination', ',', 'give', 'people', 'the', 'ability', 'to', 'learn', 'about', 'faraway', 'places', ',', 'and', 'allow', 'people', 'to', 'talk', 'to', 'others', 'online', '.', 'Firstly', ',', 'computers', 'help', 'teach', 'hand', 'eye', 'coordination', '.', 'And-eye', 'coordination', 'is', 'a', 'useful', 'ability', 'that', 'is', 'used', 'to', 'expel', 'in', 'sports', '.', 'In', 'a', 'recent', 'survey', ',', '@', 'PERCENT1', 'of', 'kiss', 'felt', 'their', 'hand', 'eye', 'coordination', 'improves', 'after', 'computer', 'use', '.', 'Even', 'a', 'simple', 'thing', 'like', 'tying', 'can', 'build', 'up', 'this', 'skill', '.', 'Famous', 'neurologist', '@', 'CAPS2', '@', 'PERSON1', 'stated', 'in', 'an', 'article', 'last', 'week', 'that', ',', '``', '@', 'CAPS3', 'and', 'computer', 'strength', 'the', '@', 'CAPS2', '.', 'When', 'on', 'the', 'computer', ',', 'you', 'automatically', 'process', 'what', 'the', 'eyes', 'see', 'into', 'a', 'command', 'for', 'your', 'hands', '.', \"''\", '@', 'CAPS4', 'hand', 'eye', 'coordination', 'can', 'improve', 'people', 'in', 'sports', 'such', 'as', 'baseball', 'and', 'basketball', '.', 'Of', 'someone', 'wa', \"n't\", 'to', 'become', 'better', 'in', 'these', 'sports', ',', 'all', 'they', \"'d\", 'need', 'to', 'do', 'was', 'turn', 'on', 'the', 'computer', '.', 'Once', 'people', 'become', 'better', 'at', 'sports', ',', 'they', \"'re\", 'more', 'likely', 'to', 'play', 'them', 'and', 'become', 'more', 'healthy', '.', 'In', 'reality', ',', 'computers', 'can', 'help', 'with', 'exercising', 'instead', 'of', 'increasing', 'it', '.', 'Additional', ',', 'computers', 'allow', 'people', 'to', 'access', 'information', 'about', 'faraway', 'places', 'and', 'people', '.', 'Of', 'someone', 'wanted', 'to', 'research', '@', 'LOCATION1', ',', 'all', 'they', \"'d\", 'need', 'to', 'do', 'was', 'type', 'in', 'a', 'search', 'would', 'be', 'presented', 'to', 'them', 'in', 'it', 'would', 'link', 'forever', 'to', 'search', 'through', 'countless', 'things', '.', 'Also', ',', 'having', 'the', 'ability', 'to', 'learn', 'about', 'cultures', 'can', 'make', 'people', 'people', 'and', 'their', 'cultures', ',', 'they', 'understand', 'others', 'something', '.', 'Increase', 'tolerable', 'people', 'are', '.', 'Computers', 'are', 'a', 'resourceful', 'tool', 'that', 'they', 'can', 'help', 'people', 'in', 'every', 'different', 'aspect', 'of', 'life', '.', 'Lastly', ',', 'computer', 'and', 'in', 'technology', 'can', 'allow', 'people', 'to', 'chat', '.', 'Computer', 'chat', 'and', 'video', 'chat', 'can', 'help', 'the', 'all', 'different', 'nations', '.', 'Bring', 'on', 'good', 'terms', 'places', 'other', 'than', 'can', 'help', 'us', 'understand', 'story', 'comes', 'out', 'about', 'something', 'that', 'happened', 'in', '@', 'LOCATION3', ',', 'people', 'can', 'just', 'go', 'on', 'their', 'computer', 'and', 'ask', 'an', 'actual', '@', 'LOCATION3', 'citizen', 'their', 'take', 'on', 'the', 'matter', '.', 'Also', ',', 'video', 'chat', 'and', 'online', 'conversation', 'can', 'cut', 'down', 'on', 'expensive', 'phone', 'bills', '.', 'To', 'one', 'wants', 'to', 'pay', 'more', 'than', 'they', 'have', 'to', 'in', 'this', 'economy', '.', 'Another', 'good', 'point', 'is', 'that', 'you', 'can', 'access', 'family', 'members', 'you', 'scarcely', 'visit', '.', 'It', 'can', 'help', 'you', 'connect', 'within', 'your', 'own', 'family', 'more', '.', 'Obviously', ',', 'computers', 'are', 'a', 'useful', 'aid', 'in', 'today', 'era', '.', 'their', 'advancement', 'push', 'the', 'world', 'forward', 'to', 'a', 'better', 'place', '.', 'Computers', 'can', 'help', 'people', 'because', 'they', 'help', 'teach', 'handed', 'coordination', ',', 'give', 'people', 'the', 'ability', 'to', 'learn', 'about', 'faraway', 'places', 'and', 'people', ',', 'and', 'allow', 'people', 'to', 'talk', 'online', 'with', 'others', '.', 'Think', 'of', 'a', 'world', 'with', 'no', 'computers', 'or', 'technological', 'advancement', '.', 'The', 'world', 'would', 'be', 'secured', 'and', 'unified', ',', 'contact', 'between', 'people', 'scare', ',', 'and', 'information', 'even', '.', 'The', 'internet', 'is', 'like', 'thousands', 'or', 'library', 'put', 'together', '.', 'Nobody', 'would', 'know', 'much', 'about', 'other', 'nations', 'and', 'news', 'would', 'travel', 'slower', '.', 'Is', 'that', 'the', 'kind', 'of', 'place', 'you', 'want', 'people', 'to', 'live', 'in', '?'])"
      ]
     },
     "execution_count": 102,
     "metadata": {},
     "output_type": "execute_result"
    }
   ],
   "source": [
    "tokens = tb_correct.tokenize()\n",
    "tokens"
   ]
  },
  {
   "cell_type": "code",
   "execution_count": 103,
   "metadata": {},
   "outputs": [
    {
     "data": {
      "text/plain": [
       "WordList(['Dear', '@', 'ORGANIZATION1', ',', 'The', 'computer', 'blinked', 'to', 'life', 'and', 'an', 'image', 'of', 'a', 'blonde', 'haired', 'girl', 'filled', 'the', 'screen', '.', 'It', 'wa', 'easy', 'to', 'find', 'out', 'how', 'life', 'wa', 'in', '@', 'LOCATION2', ',', 'thanks', 'to', 'the', 'actual', '@', 'CAPS1', 'girl', 'explaining', 'it', '.', 'Going', 'to', 'the', 'library', 'would', \"n't\", 'have', 'filled', 'one', 'with', 'this', 'priceless', 'information', 'and', 'human', 'interaction', '.', 'Computers', 'are', 'a', 'necessity', 'of', 'life', 'if', 'society', 'wish', 'to', 'grow', 'and', 'expand', '.', 'They', 'should', 'be', 'supported', 'because', 'they', 'teach', 'hand', 'eye', 'coordination', ',', 'give', 'people', 'the', 'ability', 'to', 'learn', 'about', 'faraway', 'place', ',', 'and', 'allow', 'people', 'to', 'talk', 'to', 'others', 'online', '.', 'Firstly', ',', 'computer', 'help', 'teach', 'hand', 'eye', 'coordination', '.', 'And-eye', 'coordination', 'is', 'a', 'useful', 'ability', 'that', 'is', 'used', 'to', 'expel', 'in', 'sport', '.', 'In', 'a', 'recent', 'survey', ',', '@', 'PERCENT1', 'of', 'kiss', 'felt', 'their', 'hand', 'eye', 'coordination', 'improves', 'after', 'computer', 'use', '.', 'Even', 'a', 'simple', 'thing', 'like', 'tying', 'can', 'build', 'up', 'this', 'skill', '.', 'Famous', 'neurologist', '@', 'CAPS2', '@', 'PERSON1', 'stated', 'in', 'an', 'article', 'last', 'week', 'that', ',', '``', '@', 'CAPS3', 'and', 'computer', 'strength', 'the', '@', 'CAPS2', '.', 'When', 'on', 'the', 'computer', ',', 'you', 'automatically', 'process', 'what', 'the', 'eye', 'see', 'into', 'a', 'command', 'for', 'your', 'hand', '.', \"''\", '@', 'CAPS4', 'hand', 'eye', 'coordination', 'can', 'improve', 'people', 'in', 'sport', 'such', 'a', 'baseball', 'and', 'basketball', '.', 'Of', 'someone', 'wa', \"n't\", 'to', 'become', 'better', 'in', 'these', 'sport', ',', 'all', 'they', \"'d\", 'need', 'to', 'do', 'wa', 'turn', 'on', 'the', 'computer', '.', 'Once', 'people', 'become', 'better', 'at', 'sport', ',', 'they', \"'re\", 'more', 'likely', 'to', 'play', 'them', 'and', 'become', 'more', 'healthy', '.', 'In', 'reality', ',', 'computer', 'can', 'help', 'with', 'exercising', 'instead', 'of', 'increasing', 'it', '.', 'Additional', ',', 'computer', 'allow', 'people', 'to', 'access', 'information', 'about', 'faraway', 'place', 'and', 'people', '.', 'Of', 'someone', 'wanted', 'to', 'research', '@', 'LOCATION1', ',', 'all', 'they', \"'d\", 'need', 'to', 'do', 'wa', 'type', 'in', 'a', 'search', 'would', 'be', 'presented', 'to', 'them', 'in', 'it', 'would', 'link', 'forever', 'to', 'search', 'through', 'countless', 'thing', '.', 'Also', ',', 'having', 'the', 'ability', 'to', 'learn', 'about', 'culture', 'can', 'make', 'people', 'people', 'and', 'their', 'culture', ',', 'they', 'understand', 'others', 'something', '.', 'Increase', 'tolerable', 'people', 'are', '.', 'Computers', 'are', 'a', 'resourceful', 'tool', 'that', 'they', 'can', 'help', 'people', 'in', 'every', 'different', 'aspect', 'of', 'life', '.', 'Lastly', ',', 'computer', 'and', 'in', 'technology', 'can', 'allow', 'people', 'to', 'chat', '.', 'Computer', 'chat', 'and', 'video', 'chat', 'can', 'help', 'the', 'all', 'different', 'nation', '.', 'Bring', 'on', 'good', 'term', 'place', 'other', 'than', 'can', 'help', 'u', 'understand', 'story', 'come', 'out', 'about', 'something', 'that', 'happened', 'in', '@', 'LOCATION3', ',', 'people', 'can', 'just', 'go', 'on', 'their', 'computer', 'and', 'ask', 'an', 'actual', '@', 'LOCATION3', 'citizen', 'their', 'take', 'on', 'the', 'matter', '.', 'Also', ',', 'video', 'chat', 'and', 'online', 'conversation', 'can', 'cut', 'down', 'on', 'expensive', 'phone', 'bill', '.', 'To', 'one', 'want', 'to', 'pay', 'more', 'than', 'they', 'have', 'to', 'in', 'this', 'economy', '.', 'Another', 'good', 'point', 'is', 'that', 'you', 'can', 'access', 'family', 'member', 'you', 'scarcely', 'visit', '.', 'It', 'can', 'help', 'you', 'connect', 'within', 'your', 'own', 'family', 'more', '.', 'Obviously', ',', 'computer', 'are', 'a', 'useful', 'aid', 'in', 'today', 'era', '.', 'their', 'advancement', 'push', 'the', 'world', 'forward', 'to', 'a', 'better', 'place', '.', 'Computers', 'can', 'help', 'people', 'because', 'they', 'help', 'teach', 'handed', 'coordination', ',', 'give', 'people', 'the', 'ability', 'to', 'learn', 'about', 'faraway', 'place', 'and', 'people', ',', 'and', 'allow', 'people', 'to', 'talk', 'online', 'with', 'others', '.', 'Think', 'of', 'a', 'world', 'with', 'no', 'computer', 'or', 'technological', 'advancement', '.', 'The', 'world', 'would', 'be', 'secured', 'and', 'unified', ',', 'contact', 'between', 'people', 'scare', ',', 'and', 'information', 'even', '.', 'The', 'internet', 'is', 'like', 'thousand', 'or', 'library', 'put', 'together', '.', 'Nobody', 'would', 'know', 'much', 'about', 'other', 'nation', 'and', 'news', 'would', 'travel', 'slower', '.', 'Is', 'that', 'the', 'kind', 'of', 'place', 'you', 'want', 'people', 'to', 'live', 'in', '?'])"
      ]
     },
     "execution_count": 103,
     "metadata": {},
     "output_type": "execute_result"
    }
   ],
   "source": [
    "tokens.lemmatize()"
   ]
  },
  {
   "cell_type": "code",
   "execution_count": 104,
   "metadata": {},
   "outputs": [
    {
     "data": {
      "text/plain": [
       "0.9539807998465871"
      ]
     },
     "execution_count": 104,
     "metadata": {},
     "output_type": "execute_result"
    }
   ],
   "source": [
    "def spelling_confidence(wordlist, agg_func=np.max):\n",
    "    return sum(agg_func([conf for _, conf in word.spellcheck()]) for word in wordlist) / len(wordlist)\n",
    "\n",
    "spelling_confidence(tokens)"
   ]
  },
  {
   "cell_type": "code",
   "execution_count": 105,
   "metadata": {},
   "outputs": [],
   "source": [
    "set1 = train[train['essay_set'] == 1]\n",
    "low = set1[set1['domain1_score'] < 4]\n",
    "high = set1[set1['domain1_score'] > 10]"
   ]
  },
  {
   "cell_type": "code",
   "execution_count": 57,
   "metadata": {},
   "outputs": [
    {
     "data": {
      "text/plain": [
       "essay_id                                                         545\n",
       "essay_set                                                          1\n",
       "essay              I think that computers are amazing. Computers ...\n",
       "domain1_score                                                      2\n",
       "domain2_score                                                    NaN\n",
       "domain1_percent                                                    0\n",
       "domain2_percent                                                  NaN\n",
       "Name: 542, dtype: object"
      ]
     },
     "execution_count": 57,
     "metadata": {},
     "output_type": "execute_result"
    }
   ],
   "source": [
    "train.loc[542]"
   ]
  },
  {
   "cell_type": "code",
   "execution_count": null,
   "metadata": {},
   "outputs": [],
   "source": []
  }
 ],
 "metadata": {
  "kernelspec": {
   "display_name": "Python 3",
   "language": "python",
   "name": "python3"
  },
  "language_info": {
   "codemirror_mode": {
    "name": "ipython",
    "version": 3
   },
   "file_extension": ".py",
   "mimetype": "text/x-python",
   "name": "python",
   "nbconvert_exporter": "python",
   "pygments_lexer": "ipython3",
   "version": "3.6.8"
  }
 },
 "nbformat": 4,
 "nbformat_minor": 2
}
